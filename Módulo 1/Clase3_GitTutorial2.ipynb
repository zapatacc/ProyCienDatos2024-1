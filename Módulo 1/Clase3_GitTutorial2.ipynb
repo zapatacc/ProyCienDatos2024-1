{
 "cells": [
  {
   "cell_type": "markdown",
   "metadata": {
    "pycharm": {
     "name": "#%% md\n"
    }
   },
   "source": [
    "# `git`, `GitHub`, `GitKraken` (continuación)\n",
    "\n",
    "<img style=\"float: left; margin: 15px 15px 15px 15px;\" src=\"http://conociendogithub.readthedocs.io/en/latest/_images/Git.png\" width=\"180\" height=\"50\" />\n",
    "<img style=\"float: left; margin: 15px 15px 15px 15px;\" src=\"https://c1.staticflickr.com/3/2238/13158675193_2892abac95_z.jpg\" title=\"github\" width=\"180\" height=\"50\" />\n",
    "<img style=\"float: left; margin: 15px 15px 15px 15px;\" src=\"https://www.aztechcouncil.org/wp-content/uploads/2023/04/gitkraken-logo-dark-hz.png\" title=\"gitkraken\" width=\"180\" height=\"50\" />"
   ]
  },
  {
   "cell_type": "markdown",
   "metadata": {
    "pycharm": {
     "name": "#%% md\n"
    }
   },
   "source": [
    "___\n",
    "## Repaso de la clase pasada\n",
    "Conceptos básicos de Git\n",
    "- Repositorio\n",
    "- Diferencia entre Git, Github y GitKraken\n",
    "- Commits\n",
    "- Branch (Ramas)"
   ]
  },
  {
   "cell_type": "markdown",
   "metadata": {
    "pycharm": {
     "name": "#%% md\n"
    }
   },
   "source": [
    "<img style=\"float: center\" src=\"http://anitacheng.com/wp-content/uploads/2014/10/git.jpg\" width=\"550\" height=\"200\" />\n"
   ]
  },
  {
   "cell_type": "markdown",
   "metadata": {
    "pycharm": {
     "name": "#%% md\n"
    }
   },
   "source": [
    "Otras fuentes para consultar:\n",
    "- [Git explicado con gaticos](https://girliemac.com/blog/2017/12/26/git-purr/)\n",
    "- [Git Cheatsheet](https://education.github.com/git-cheat-sheet-education.pdf)"
   ]
  },
  {
   "cell_type": "markdown",
   "metadata": {
    "pycharm": {
     "name": "#%% md\n"
    }
   },
   "source": [
    "___\n",
    "### Actividad\n",
    "\n",
    "Vamos a crear un repositorio y hacer algunos movimientos y operaciones.\n",
    "\n",
    "- Clonar\n",
    "- Push\n",
    "- Pull\n",
    "- Branch\n",
    "- Merge"
   ]
  },
  {
   "cell_type": "markdown",
   "metadata": {
    "pycharm": {
     "name": "#%% md\n"
    }
   },
   "source": [
    "___\n",
    "## Forking\n",
    "Una bifurcación (*fork*) es una copia de un repositorio. Bifurcar un repositorio te permite experimentar cambios libremente sin afectar el proyecto original.\n",
    "\n",
    "Existen varias aplicaciones del *Forking*:\n",
    "\n",
    "### Seguir un proyecto de otra persona\n",
    "Como ejemplo, van a seguir el proyecto de la asignatura **ProyCienDatos2024-1**.\n",
    "\n",
    "Los siguientes pasos nos enseñarán como mantener nuestro repositorio local actualizado con el repositorio de la asignatura.\n",
    "1. Entrar al repositorio https://github.com/zapatacc/ProyCienDatos2024-1.\n",
    "2. En la esquina superior derecha, dar click en *fork* y esperar un momento. Esta acción copia en su cuenta de `GitHub` un repositorio idéntico al de la materia (con el mismo nombre).\n",
    "3. Desde `GitKraken`, clonar el repositorio (el que ya está en su cuenta).\n",
    "4. En la pestaña *REMOTE* dar click en el signo `+`.\n",
    "    - Presionar en `GitHub`.\n",
    "    - Desplegar la pestaña y elegir zapatacc/ProyCienDatos2024-1.\n",
    "    - Presionar en *Add remote*.\n",
    "5. <font color=red>Añadiré un nuevo archivo en el repositorio de la materia y ustedes verán qué pasa en `GitKraken`</font>.\n",
    "6. Arrastrar el repositorio remoto ajeno a la rama *master* y dar click en la opción *Merge zapatacc/master into master*. Ya el repositorio local está actualizado.\n",
    "7. Para actualizar el repositorio remoto propio hacer un *push*.\n",
    "\n",
    "### Proyectos colaborativos\n",
    "Normalmente, los *forks* se usan para proponer cambios en el proyecto de otra persona (hacer proyectos colaborativos).\n",
    "\n",
    "<font color=red>Hacer un cambio en el repositorio propio y mostrar como hacer el *pull request* y el *merge*</font>.\n",
    "\n",
    "**Referencias:**\n",
    "- https://help.github.com/articles/fork-a-repo/\n",
    "- https://guides.github.com/activities/forking/"
   ]
  },
  {
   "cell_type": "markdown",
   "metadata": {
    "pycharm": {
     "name": "#%% md\n"
    }
   },
   "source": [
    "## Tarea 2\n",
    "\n",
    "Crear un nuevo repositorio en su cuenta de `GitHub` llamado `Tarea2_PCD`. En dicho proyecto añadir un notebook de jupyter que debe contener lo siguiente:\n",
    "\n",
    "1. Un resumen de al menos uno de los siguientes artículos donde se resalta la importancia del despliegue en producción de proyectos de ML:\n",
    "    - https://odsc.medium.com/what-are-mlops-and-why-does-it-matter-8cff060d4067\n",
    "    - https://medium.com/@selfouly/mlops-done-right-47cec1dbfc8d\n",
    "    - https://towardsdatascience.com/a-gentle-introduction-to-mlops-7d64a3e890ff\n",
    "    - https://valohai.com/blog/why-mlops-is-vital-to-your-development-team/\n",
    "    \n",
    "\n",
    "2. El repositorio debe contener al menos 2 `commits` detallados de los cambios hechos en el notebook de jupyter.\n",
    "\n",
    "3. El nombre del archivo debe ser el siguiente T2_PrimerNombrePrimerApellido.ipynb, en mi caso sería T2_CristianZapata.ipynb.\n",
    "\n",
    "4. El archivo debe existir en una rama que se llame `feature-1` adicional a la rama principal `main`.\n",
    "\n",
    "5. La rama `main` debe tener un archivo `README.md` con información acerca del repositorio (¿Qué contiene el repo? ¿Qué ramas existen? ¿Para qué se hizo?)\n",
    "\n",
    "\n",
    "Recuerde el uso de la sintáxis Markdown: [https://www.markdownguide.org/cheat-sheet/](https://www.markdownguide.org/cheat-sheet/)\n",
    "\n",
    "\n",
    "**ENTREGABLE: SE DEBE SUBIR EL ENLACE DE GITHUB AL REPOSITORIO INDICADO.**\n"
   ]
  },
  {
   "cell_type": "markdown",
   "metadata": {
    "pycharm": {
     "name": "#%% md\n"
    }
   },
   "source": [
    "**FECHA DE ENTREGA:** Miércoles 24 de Enero a las 19:55"
   ]
  },
  {
   "cell_type": "markdown",
   "metadata": {},
   "source": [
    "## QUIZ 1 LA SIGUIENTE CLASE, MIERCOLES 24 DE ENERO AL INICIAR LA CLASE.\n",
    "## SERA SOBRE LOS TEMAS VISTOS LA CLASE PASADA Y ESTA: GIT"
   ]
  },
  {
   "cell_type": "markdown",
   "metadata": {
    "pycharm": {
     "name": "#%% md\n"
    }
   },
   "source": [
    "<img src=\"https://raw.githubusercontent.com/louim/in-case-of-fire/master/in_case_of_fire.png\" title=\"In case of fire (https://github.com/louim/in-case-of-fire)\" width=\"200\" height=\"50\" align=\"center\">"
   ]
  },
  {
   "cell_type": "markdown",
   "metadata": {
    "pycharm": {
     "name": "#%% md\n"
    }
   },
   "source": [
    "<script>\n",
    "  $(document).ready(function(){\n",
    "    $('div.prompt').hide();\n",
    "    $('div.back-to-top').hide();\n",
    "    $('nav#menubar').hide();\n",
    "    $('.breadcrumb').hide();\n",
    "    $('.hidden-print').hide();\n",
    "  });\n",
    "</script>\n",
    "\n",
    "<footer id=\"attribution\" style=\"float:right; color:#808080; background:#fff;\">\n",
    "Created with Jupyter by Cristian Camilo Zapata Zuluaga.\n",
    "</footer>"
   ]
  }
 ],
 "metadata": {
  "anaconda-cloud": {},
  "kernelspec": {
   "display_name": "Python 3 (ipykernel)",
   "language": "python",
   "name": "python3"
  },
  "language_info": {
   "codemirror_mode": {
    "name": "ipython",
    "version": 3
   },
   "file_extension": ".py",
   "mimetype": "text/x-python",
   "name": "python",
   "nbconvert_exporter": "python",
   "pygments_lexer": "ipython3",
   "version": "3.9.13"
  }
 },
 "nbformat": 4,
 "nbformat_minor": 4
}
